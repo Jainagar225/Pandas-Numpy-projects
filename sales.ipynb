{
 "cells": [
  {
   "metadata": {},
   "cell_type": "markdown",
   "source": "#import pandas and numpy",
   "id": "94ad5244a7d5d3a2"
  },
  {
   "cell_type": "code",
   "id": "initial_id",
   "metadata": {
    "collapsed": true,
    "ExecuteTime": {
     "end_time": "2025-06-10T08:14:52.520296Z",
     "start_time": "2025-06-10T08:14:51.413037Z"
    }
   },
   "source": [
    "import pandas as pd\n",
    "import numpy as np"
   ],
   "outputs": [],
   "execution_count": 1
  },
  {
   "metadata": {},
   "cell_type": "markdown",
   "source": "#Read csv file",
   "id": "696e461de6a0335c"
  },
  {
   "metadata": {
    "ExecuteTime": {
     "end_time": "2025-06-10T08:16:14.015095Z",
     "start_time": "2025-06-10T08:16:13.984016Z"
    }
   },
   "cell_type": "code",
   "source": [
    "Sales = pd.read_csv('sales_dataset.csv')\n",
    "Sales"
   ],
   "id": "ff635b04679d6ef9",
   "outputs": [
    {
     "data": {
      "text/plain": [
       "     Unnamed: 0        Date  Gender  Age Product Category  Quantity  \\\n",
       "0             0  2023-11-24    Male   34           Beauty         3   \n",
       "1             1  2023-02-27  Female   26         Clothing         2   \n",
       "2             2  2023-01-13    Male   50      Electronics         1   \n",
       "3             3  2023-05-21    Male   37         Clothing         1   \n",
       "4             4  2023-05-06    Male   30           Beauty         2   \n",
       "..          ...         ...     ...  ...              ...       ...   \n",
       "995         995  2023-05-16    Male   62         Clothing         1   \n",
       "996         996  2023-11-17    Male   52           Beauty         3   \n",
       "997         997  2023-10-29  Female   23           Beauty         4   \n",
       "998         998  2023-12-05  Female   36      Electronics         3   \n",
       "999         999  2023-04-12    Male   47      Electronics         4   \n",
       "\n",
       "     Price per Unit  Total Amount  \n",
       "0                50           150  \n",
       "1               500          1000  \n",
       "2                30            30  \n",
       "3               500           500  \n",
       "4                50           100  \n",
       "..              ...           ...  \n",
       "995              50            50  \n",
       "996              30            90  \n",
       "997              25           100  \n",
       "998              50           150  \n",
       "999              30           120  \n",
       "\n",
       "[1000 rows x 8 columns]"
      ],
      "text/html": [
       "<div>\n",
       "<style scoped>\n",
       "    .dataframe tbody tr th:only-of-type {\n",
       "        vertical-align: middle;\n",
       "    }\n",
       "\n",
       "    .dataframe tbody tr th {\n",
       "        vertical-align: top;\n",
       "    }\n",
       "\n",
       "    .dataframe thead th {\n",
       "        text-align: right;\n",
       "    }\n",
       "</style>\n",
       "<table border=\"1\" class=\"dataframe\">\n",
       "  <thead>\n",
       "    <tr style=\"text-align: right;\">\n",
       "      <th></th>\n",
       "      <th>Unnamed: 0</th>\n",
       "      <th>Date</th>\n",
       "      <th>Gender</th>\n",
       "      <th>Age</th>\n",
       "      <th>Product Category</th>\n",
       "      <th>Quantity</th>\n",
       "      <th>Price per Unit</th>\n",
       "      <th>Total Amount</th>\n",
       "    </tr>\n",
       "  </thead>\n",
       "  <tbody>\n",
       "    <tr>\n",
       "      <th>0</th>\n",
       "      <td>0</td>\n",
       "      <td>2023-11-24</td>\n",
       "      <td>Male</td>\n",
       "      <td>34</td>\n",
       "      <td>Beauty</td>\n",
       "      <td>3</td>\n",
       "      <td>50</td>\n",
       "      <td>150</td>\n",
       "    </tr>\n",
       "    <tr>\n",
       "      <th>1</th>\n",
       "      <td>1</td>\n",
       "      <td>2023-02-27</td>\n",
       "      <td>Female</td>\n",
       "      <td>26</td>\n",
       "      <td>Clothing</td>\n",
       "      <td>2</td>\n",
       "      <td>500</td>\n",
       "      <td>1000</td>\n",
       "    </tr>\n",
       "    <tr>\n",
       "      <th>2</th>\n",
       "      <td>2</td>\n",
       "      <td>2023-01-13</td>\n",
       "      <td>Male</td>\n",
       "      <td>50</td>\n",
       "      <td>Electronics</td>\n",
       "      <td>1</td>\n",
       "      <td>30</td>\n",
       "      <td>30</td>\n",
       "    </tr>\n",
       "    <tr>\n",
       "      <th>3</th>\n",
       "      <td>3</td>\n",
       "      <td>2023-05-21</td>\n",
       "      <td>Male</td>\n",
       "      <td>37</td>\n",
       "      <td>Clothing</td>\n",
       "      <td>1</td>\n",
       "      <td>500</td>\n",
       "      <td>500</td>\n",
       "    </tr>\n",
       "    <tr>\n",
       "      <th>4</th>\n",
       "      <td>4</td>\n",
       "      <td>2023-05-06</td>\n",
       "      <td>Male</td>\n",
       "      <td>30</td>\n",
       "      <td>Beauty</td>\n",
       "      <td>2</td>\n",
       "      <td>50</td>\n",
       "      <td>100</td>\n",
       "    </tr>\n",
       "    <tr>\n",
       "      <th>...</th>\n",
       "      <td>...</td>\n",
       "      <td>...</td>\n",
       "      <td>...</td>\n",
       "      <td>...</td>\n",
       "      <td>...</td>\n",
       "      <td>...</td>\n",
       "      <td>...</td>\n",
       "      <td>...</td>\n",
       "    </tr>\n",
       "    <tr>\n",
       "      <th>995</th>\n",
       "      <td>995</td>\n",
       "      <td>2023-05-16</td>\n",
       "      <td>Male</td>\n",
       "      <td>62</td>\n",
       "      <td>Clothing</td>\n",
       "      <td>1</td>\n",
       "      <td>50</td>\n",
       "      <td>50</td>\n",
       "    </tr>\n",
       "    <tr>\n",
       "      <th>996</th>\n",
       "      <td>996</td>\n",
       "      <td>2023-11-17</td>\n",
       "      <td>Male</td>\n",
       "      <td>52</td>\n",
       "      <td>Beauty</td>\n",
       "      <td>3</td>\n",
       "      <td>30</td>\n",
       "      <td>90</td>\n",
       "    </tr>\n",
       "    <tr>\n",
       "      <th>997</th>\n",
       "      <td>997</td>\n",
       "      <td>2023-10-29</td>\n",
       "      <td>Female</td>\n",
       "      <td>23</td>\n",
       "      <td>Beauty</td>\n",
       "      <td>4</td>\n",
       "      <td>25</td>\n",
       "      <td>100</td>\n",
       "    </tr>\n",
       "    <tr>\n",
       "      <th>998</th>\n",
       "      <td>998</td>\n",
       "      <td>2023-12-05</td>\n",
       "      <td>Female</td>\n",
       "      <td>36</td>\n",
       "      <td>Electronics</td>\n",
       "      <td>3</td>\n",
       "      <td>50</td>\n",
       "      <td>150</td>\n",
       "    </tr>\n",
       "    <tr>\n",
       "      <th>999</th>\n",
       "      <td>999</td>\n",
       "      <td>2023-04-12</td>\n",
       "      <td>Male</td>\n",
       "      <td>47</td>\n",
       "      <td>Electronics</td>\n",
       "      <td>4</td>\n",
       "      <td>30</td>\n",
       "      <td>120</td>\n",
       "    </tr>\n",
       "  </tbody>\n",
       "</table>\n",
       "<p>1000 rows × 8 columns</p>\n",
       "</div>"
      ]
     },
     "execution_count": 3,
     "metadata": {},
     "output_type": "execute_result"
    }
   ],
   "execution_count": 3
  },
  {
   "metadata": {},
   "cell_type": "markdown",
   "source": "#all columns title",
   "id": "c6cc2d895df05b06"
  },
  {
   "metadata": {
    "ExecuteTime": {
     "end_time": "2025-06-10T08:20:07.113266Z",
     "start_time": "2025-06-10T08:20:07.101405Z"
    }
   },
   "cell_type": "code",
   "source": "print(Sales.columns)",
   "id": "cb7fb76e0cb29aaf",
   "outputs": [
    {
     "name": "stdout",
     "output_type": "stream",
     "text": [
      "Index(['Unnamed: 0', 'Date', 'Gender', 'Age', 'Product Category', 'Quantity',\n",
      "       'Price per Unit', 'Total Amount'],\n",
      "      dtype='object')\n"
     ]
    }
   ],
   "execution_count": 4
  },
  {
   "metadata": {},
   "cell_type": "markdown",
   "source": "#sales information",
   "id": "ec46f175f34027ee"
  },
  {
   "metadata": {
    "ExecuteTime": {
     "end_time": "2025-06-10T08:29:19.224618Z",
     "start_time": "2025-06-10T08:29:19.199693Z"
    }
   },
   "cell_type": "code",
   "source": "Sales.info()",
   "id": "ef3561347bb7177",
   "outputs": [
    {
     "name": "stdout",
     "output_type": "stream",
     "text": [
      "<class 'pandas.core.frame.DataFrame'>\n",
      "RangeIndex: 1000 entries, 0 to 999\n",
      "Data columns (total 8 columns):\n",
      " #   Column            Non-Null Count  Dtype \n",
      "---  ------            --------------  ----- \n",
      " 0   Unnamed: 0        1000 non-null   int64 \n",
      " 1   Date              1000 non-null   object\n",
      " 2   Gender            1000 non-null   object\n",
      " 3   Age               1000 non-null   int64 \n",
      " 4   Product Category  1000 non-null   object\n",
      " 5   Quantity          1000 non-null   int64 \n",
      " 6   Price per Unit    1000 non-null   int64 \n",
      " 7   Total Amount      1000 non-null   int64 \n",
      "dtypes: int64(5), object(3)\n",
      "memory usage: 62.6+ KB\n"
     ]
    }
   ],
   "execution_count": 5
  },
  {
   "metadata": {},
   "cell_type": "markdown",
   "source": "#Last five dataset",
   "id": "56790dd46fb910f2"
  },
  {
   "metadata": {
    "ExecuteTime": {
     "end_time": "2025-06-10T11:17:07.731390Z",
     "start_time": "2025-06-10T11:17:07.706689Z"
    }
   },
   "cell_type": "code",
   "source": "Sales.tail()",
   "id": "ad5360908cf5bbde",
   "outputs": [
    {
     "data": {
      "text/plain": [
       "     Unnamed: 0       Date  Gender  Age Product Category  Quantity  \\\n",
       "995         995 2023-05-16    Male   62         Clothing         1   \n",
       "996         996 2023-11-17    Male   52           Beauty         3   \n",
       "997         997 2023-10-29  Female   23           Beauty         4   \n",
       "998         998 2023-12-05  Female   36      Electronics         3   \n",
       "999         999 2023-04-12    Male   47      Electronics         4   \n",
       "\n",
       "     Price per Unit  Total Amount  \n",
       "995              50            50  \n",
       "996              30            90  \n",
       "997              25           100  \n",
       "998              50           150  \n",
       "999              30           120  "
      ],
      "text/html": [
       "<div>\n",
       "<style scoped>\n",
       "    .dataframe tbody tr th:only-of-type {\n",
       "        vertical-align: middle;\n",
       "    }\n",
       "\n",
       "    .dataframe tbody tr th {\n",
       "        vertical-align: top;\n",
       "    }\n",
       "\n",
       "    .dataframe thead th {\n",
       "        text-align: right;\n",
       "    }\n",
       "</style>\n",
       "<table border=\"1\" class=\"dataframe\">\n",
       "  <thead>\n",
       "    <tr style=\"text-align: right;\">\n",
       "      <th></th>\n",
       "      <th>Unnamed: 0</th>\n",
       "      <th>Date</th>\n",
       "      <th>Gender</th>\n",
       "      <th>Age</th>\n",
       "      <th>Product Category</th>\n",
       "      <th>Quantity</th>\n",
       "      <th>Price per Unit</th>\n",
       "      <th>Total Amount</th>\n",
       "    </tr>\n",
       "  </thead>\n",
       "  <tbody>\n",
       "    <tr>\n",
       "      <th>995</th>\n",
       "      <td>995</td>\n",
       "      <td>2023-05-16</td>\n",
       "      <td>Male</td>\n",
       "      <td>62</td>\n",
       "      <td>Clothing</td>\n",
       "      <td>1</td>\n",
       "      <td>50</td>\n",
       "      <td>50</td>\n",
       "    </tr>\n",
       "    <tr>\n",
       "      <th>996</th>\n",
       "      <td>996</td>\n",
       "      <td>2023-11-17</td>\n",
       "      <td>Male</td>\n",
       "      <td>52</td>\n",
       "      <td>Beauty</td>\n",
       "      <td>3</td>\n",
       "      <td>30</td>\n",
       "      <td>90</td>\n",
       "    </tr>\n",
       "    <tr>\n",
       "      <th>997</th>\n",
       "      <td>997</td>\n",
       "      <td>2023-10-29</td>\n",
       "      <td>Female</td>\n",
       "      <td>23</td>\n",
       "      <td>Beauty</td>\n",
       "      <td>4</td>\n",
       "      <td>25</td>\n",
       "      <td>100</td>\n",
       "    </tr>\n",
       "    <tr>\n",
       "      <th>998</th>\n",
       "      <td>998</td>\n",
       "      <td>2023-12-05</td>\n",
       "      <td>Female</td>\n",
       "      <td>36</td>\n",
       "      <td>Electronics</td>\n",
       "      <td>3</td>\n",
       "      <td>50</td>\n",
       "      <td>150</td>\n",
       "    </tr>\n",
       "    <tr>\n",
       "      <th>999</th>\n",
       "      <td>999</td>\n",
       "      <td>2023-04-12</td>\n",
       "      <td>Male</td>\n",
       "      <td>47</td>\n",
       "      <td>Electronics</td>\n",
       "      <td>4</td>\n",
       "      <td>30</td>\n",
       "      <td>120</td>\n",
       "    </tr>\n",
       "  </tbody>\n",
       "</table>\n",
       "</div>"
      ]
     },
     "execution_count": 34,
     "metadata": {},
     "output_type": "execute_result"
    }
   ],
   "execution_count": 34
  },
  {
   "metadata": {},
   "cell_type": "markdown",
   "source": "#total number of every data in dataset",
   "id": "f5836f736d9ba8fa"
  },
  {
   "metadata": {
    "ExecuteTime": {
     "end_time": "2025-06-10T08:32:56.821013Z",
     "start_time": "2025-06-10T08:32:56.810775Z"
    }
   },
   "cell_type": "code",
   "source": "Sales.count()",
   "id": "9fe5ed3accf73361",
   "outputs": [
    {
     "data": {
      "text/plain": [
       "Unnamed: 0          1000\n",
       "Date                1000\n",
       "Gender              1000\n",
       "Age                 1000\n",
       "Product Category    1000\n",
       "Quantity            1000\n",
       "Price per Unit      1000\n",
       "Total Amount        1000\n",
       "dtype: int64"
      ]
     },
     "execution_count": 6,
     "metadata": {},
     "output_type": "execute_result"
    }
   ],
   "execution_count": 6
  },
  {
   "metadata": {},
   "cell_type": "markdown",
   "source": "#Check for null values in dataset",
   "id": "b133462103185a8c"
  },
  {
   "metadata": {
    "ExecuteTime": {
     "end_time": "2025-06-10T08:36:48.310963Z",
     "start_time": "2025-06-10T08:36:48.301960Z"
    }
   },
   "cell_type": "code",
   "source": "Sales.isnull().sum()",
   "id": "e627f97e319480d",
   "outputs": [
    {
     "data": {
      "text/plain": [
       "Unnamed: 0          0\n",
       "Date                0\n",
       "Gender              0\n",
       "Age                 0\n",
       "Product Category    0\n",
       "Quantity            0\n",
       "Price per Unit      0\n",
       "Total Amount        0\n",
       "dtype: int64"
      ]
     },
     "execution_count": 8,
     "metadata": {},
     "output_type": "execute_result"
    }
   ],
   "execution_count": 8
  },
  {
   "metadata": {},
   "cell_type": "markdown",
   "source": "#Dates",
   "id": "b8ae0822ec11bee6"
  },
  {
   "metadata": {
    "ExecuteTime": {
     "end_time": "2025-06-10T08:40:24.267349Z",
     "start_time": "2025-06-10T08:40:24.258633Z"
    }
   },
   "cell_type": "code",
   "source": "Sales['Date']",
   "id": "6ab7fe4ae22ca2cf",
   "outputs": [
    {
     "data": {
      "text/plain": [
       "0     2023-11-24\n",
       "1     2023-02-27\n",
       "2     2023-01-13\n",
       "3     2023-05-21\n",
       "4     2023-05-06\n",
       "         ...    \n",
       "995   2023-05-16\n",
       "996   2023-11-17\n",
       "997   2023-10-29\n",
       "998   2023-12-05\n",
       "999   2023-04-12\n",
       "Name: Date, Length: 1000, dtype: datetime64[ns]"
      ]
     },
     "execution_count": 15,
     "metadata": {},
     "output_type": "execute_result"
    }
   ],
   "execution_count": 15
  },
  {
   "metadata": {},
   "cell_type": "markdown",
   "source": "#Clean the data",
   "id": "c774f1ee161bf01e"
  },
  {
   "metadata": {
    "ExecuteTime": {
     "end_time": "2025-06-10T08:40:51.062442Z",
     "start_time": "2025-06-10T08:40:51.053175Z"
    }
   },
   "cell_type": "code",
   "source": [
    "Sales['Date'] = pd.to_datetime(Sales['Date'])\n",
    "print(Sales['Date'])"
   ],
   "id": "a7f154ff71b6a132",
   "outputs": [
    {
     "name": "stdout",
     "output_type": "stream",
     "text": [
      "0     2023-11-24\n",
      "1     2023-02-27\n",
      "2     2023-01-13\n",
      "3     2023-05-21\n",
      "4     2023-05-06\n",
      "         ...    \n",
      "995   2023-05-16\n",
      "996   2023-11-17\n",
      "997   2023-10-29\n",
      "998   2023-12-05\n",
      "999   2023-04-12\n",
      "Name: Date, Length: 1000, dtype: datetime64[ns]\n"
     ]
    }
   ],
   "execution_count": 16
  },
  {
   "metadata": {},
   "cell_type": "markdown",
   "source": "#Total Revenue Calculation",
   "id": "ccd0cd68876b86cc"
  },
  {
   "metadata": {
    "ExecuteTime": {
     "end_time": "2025-06-10T08:47:02.224034Z",
     "start_time": "2025-06-10T08:47:02.214865Z"
    }
   },
   "cell_type": "code",
   "source": [
    "total_revenue = np.sum(Sales['Total Amount'])\n",
    "print(total_revenue)"
   ],
   "id": "48c983712ff4c162",
   "outputs": [
    {
     "name": "stdout",
     "output_type": "stream",
     "text": [
      "456000\n"
     ]
    }
   ],
   "execution_count": 23
  },
  {
   "metadata": {},
   "cell_type": "markdown",
   "source": "#Average Quantity & Price",
   "id": "31bdd24e874deb39"
  },
  {
   "metadata": {
    "ExecuteTime": {
     "end_time": "2025-06-10T08:48:16.959266Z",
     "start_time": "2025-06-10T08:48:16.951225Z"
    }
   },
   "cell_type": "code",
   "source": [
    "avg_quantity = np.mean(Sales['Quantity'])\n",
    "print(avg_quantity)"
   ],
   "id": "564cd75f46bbdec8",
   "outputs": [
    {
     "name": "stdout",
     "output_type": "stream",
     "text": [
      "2.514\n"
     ]
    }
   ],
   "execution_count": 24
  },
  {
   "metadata": {
    "ExecuteTime": {
     "end_time": "2025-06-10T08:49:13.058089Z",
     "start_time": "2025-06-10T08:49:13.051504Z"
    }
   },
   "cell_type": "code",
   "source": [
    "avg_price = np.mean(Sales['Price per Unit'])\n",
    "print(avg_price)"
   ],
   "id": "b2bb201113eb34d1",
   "outputs": [
    {
     "name": "stdout",
     "output_type": "stream",
     "text": [
      "179.89\n"
     ]
    }
   ],
   "execution_count": 25
  },
  {
   "metadata": {},
   "cell_type": "markdown",
   "source": "#Top-Selling Product Categories",
   "id": "ea9c752a738f1f1"
  },
  {
   "metadata": {
    "ExecuteTime": {
     "end_time": "2025-06-10T11:09:30.281644Z",
     "start_time": "2025-06-10T11:09:30.270704Z"
    }
   },
   "cell_type": "code",
   "source": [
    "top_products = Sales.groupby('Product Category')['Total Amount'].sum().sort_values(ascending=False)\n",
    "print(top_products)"
   ],
   "id": "c7077c2f86dd1e18",
   "outputs": [
    {
     "name": "stdout",
     "output_type": "stream",
     "text": [
      "Product Category\n",
      "Electronics    156905\n",
      "Clothing       155580\n",
      "Beauty         143515\n",
      "Name: Total Amount, dtype: int64\n"
     ]
    }
   ],
   "execution_count": 30
  },
  {
   "metadata": {},
   "cell_type": "markdown",
   "source": "#Most Frequent Buyers by Age Group",
   "id": "3dc10eced79fdde3"
  },
  {
   "metadata": {
    "ExecuteTime": {
     "end_time": "2025-06-10T11:11:31.739497Z",
     "start_time": "2025-06-10T11:11:31.726912Z"
    }
   },
   "cell_type": "code",
   "source": [
    "age_group_sales = Sales.groupby('Age')['Total Amount'].sum().sort_values(ascending=False)\n",
    "print(age_group_sales)"
   ],
   "id": "31b1db4a58dfc3d3",
   "outputs": [
    {
     "name": "stdout",
     "output_type": "stream",
     "text": [
      "Age\n",
      "43    17970\n",
      "34    16785\n",
      "51    16065\n",
      "19    14870\n",
      "26    13980\n",
      "22    13700\n",
      "46    13090\n",
      "21    12585\n",
      "47    12505\n",
      "37    11650\n",
      "60    11590\n",
      "35    11290\n",
      "18    11215\n",
      "38    11100\n",
      "54    10505\n",
      "31    10220\n",
      "25     9900\n",
      "50     9845\n",
      "30     9790\n",
      "55     9780\n",
      "53     9510\n",
      "59     9470\n",
      "56     9440\n",
      "40     9415\n",
      "27     9385\n",
      "57     9290\n",
      "63     9250\n",
      "64     9125\n",
      "36     9105\n",
      "28     8670\n",
      "20     8645\n",
      "42     8500\n",
      "23     8220\n",
      "62     8120\n",
      "44     7560\n",
      "58     7395\n",
      "48     7240\n",
      "52     7040\n",
      "61     6730\n",
      "29     6570\n",
      "45     6325\n",
      "33     6240\n",
      "41     5650\n",
      "32     5550\n",
      "24     5415\n",
      "49     5110\n",
      "39     4595\n",
      "Name: Total Amount, dtype: int64\n"
     ]
    }
   ],
   "execution_count": 31
  },
  {
   "metadata": {},
   "cell_type": "markdown",
   "source": "#Gender-wise Sales Analysis",
   "id": "9a61e8c7c3f625c1"
  },
  {
   "metadata": {
    "ExecuteTime": {
     "end_time": "2025-06-10T11:16:03.022395Z",
     "start_time": "2025-06-10T11:16:03.009860Z"
    }
   },
   "cell_type": "code",
   "source": [
    "gender_sales = Sales.groupby('Gender')['Total Amount'].sum()\n",
    "print(gender_sales)"
   ],
   "id": "d2eadf197d60aef4",
   "outputs": [
    {
     "name": "stdout",
     "output_type": "stream",
     "text": [
      "Gender\n",
      "Female    232840\n",
      "Male      223160\n",
      "Name: Total Amount, dtype: int64\n"
     ]
    }
   ],
   "execution_count": 32
  },
  {
   "metadata": {
    "ExecuteTime": {
     "end_time": "2025-06-10T11:18:53.903336Z",
     "start_time": "2025-06-10T11:18:53.890585Z"
    }
   },
   "cell_type": "code",
   "source": [
    "gender_quantity = Sales.groupby('Gender')['Quantity'].sum()\n",
    "print(gender_quantity)"
   ],
   "id": "ae660298ccf2bc68",
   "outputs": [
    {
     "name": "stdout",
     "output_type": "stream",
     "text": [
      "Gender\n",
      "Female    1298\n",
      "Male      1216\n",
      "Name: Quantity, dtype: int64\n"
     ]
    }
   ],
   "execution_count": 35
  },
  {
   "metadata": {},
   "cell_type": "markdown",
   "source": "#Monthly Sales Trend",
   "id": "305fe8333670d6c5"
  },
  {
   "metadata": {
    "ExecuteTime": {
     "end_time": "2025-06-10T11:24:54.548635Z",
     "start_time": "2025-06-10T11:24:54.535445Z"
    }
   },
   "cell_type": "code",
   "source": [
    "Sales['Month'] = Sales['Date'].dt.to_period('M')\n",
    "monthly_sales = Sales.groupby('Month')['Total Amount'].sum()\n",
    "print(monthly_sales)"
   ],
   "id": "f67be649700d2da9",
   "outputs": [
    {
     "name": "stdout",
     "output_type": "stream",
     "text": [
      "Month\n",
      "2023-01    35450\n",
      "2023-02    44060\n",
      "2023-03    28990\n",
      "2023-04    33870\n",
      "2023-05    53150\n",
      "2023-06    36715\n",
      "2023-07    35465\n",
      "2023-08    36960\n",
      "2023-09    23620\n",
      "2023-10    46580\n",
      "2023-11    34920\n",
      "2023-12    44690\n",
      "2024-01     1530\n",
      "Freq: M, Name: Total Amount, dtype: int64\n"
     ]
    }
   ],
   "execution_count": 39
  },
  {
   "metadata": {},
   "cell_type": "markdown",
   "source": "#Most Common Product Category",
   "id": "48d1ff64b286f0f"
  },
  {
   "metadata": {
    "ExecuteTime": {
     "end_time": "2025-06-10T11:26:39.067520Z",
     "start_time": "2025-06-10T11:26:39.058480Z"
    }
   },
   "cell_type": "code",
   "source": [
    "most_common_product = Sales['Product Category'].value_counts()\n",
    "print(most_common_product)"
   ],
   "id": "8daa0dfc6e55455c",
   "outputs": [
    {
     "name": "stdout",
     "output_type": "stream",
     "text": [
      "Product Category\n",
      "Clothing       351\n",
      "Electronics    342\n",
      "Beauty         307\n",
      "Name: count, dtype: int64\n"
     ]
    }
   ],
   "execution_count": 40
  },
  {
   "metadata": {},
   "cell_type": "markdown",
   "source": "#igh-Value Transactions (Sales > ₹1000)",
   "id": "707ccef7ef8632c"
  },
  {
   "metadata": {
    "ExecuteTime": {
     "end_time": "2025-06-10T11:28:32.931404Z",
     "start_time": "2025-06-10T11:28:32.911540Z"
    }
   },
   "cell_type": "code",
   "source": [
    "high_value_sales = Sales[Sales['Total Amount'] > 1000]\n",
    "print(high_value_sales)"
   ],
   "id": "7cb37317fc45b2f2",
   "outputs": [
    {
     "name": "stdout",
     "output_type": "stream",
     "text": [
      "     Unnamed: 0       Date  Gender  Age Product Category  Quantity  \\\n",
      "12           12 2023-08-05    Male   22      Electronics         3   \n",
      "14           14 2023-01-16  Female   42      Electronics         4   \n",
      "15           15 2023-02-17    Male   19         Clothing         3   \n",
      "30           30 2023-05-23    Male   44      Electronics         4   \n",
      "45           45 2023-06-26  Female   20      Electronics         4   \n",
      "..          ...        ...     ...  ...              ...       ...   \n",
      "941         941 2023-03-18    Male   51         Clothing         3   \n",
      "942         942 2023-10-16  Female   57         Clothing         4   \n",
      "945         945 2023-05-08    Male   62      Electronics         4   \n",
      "955         955 2023-08-19    Male   30         Clothing         3   \n",
      "969         969 2023-05-16    Male   59      Electronics         4   \n",
      "\n",
      "     Price per Unit  Total Amount    Month  \n",
      "12              500          1500  2023-08  \n",
      "14              500          2000  2023-01  \n",
      "15              500          1500  2023-02  \n",
      "30              300          1200  2023-05  \n",
      "45              300          1200  2023-06  \n",
      "..              ...           ...      ...  \n",
      "941             500          1500  2023-03  \n",
      "942             300          1200  2023-10  \n",
      "945             500          2000  2023-05  \n",
      "955             500          1500  2023-08  \n",
      "969             500          2000  2023-05  \n",
      "\n",
      "[153 rows x 9 columns]\n"
     ]
    }
   ],
   "execution_count": 41
  },
  {
   "metadata": {
    "ExecuteTime": {
     "end_time": "2025-06-10T11:31:13.966119Z",
     "start_time": "2025-06-10T11:31:13.951348Z"
    }
   },
   "cell_type": "code",
   "source": [
    "total_items_sold = Sales.groupby('Product Category')['Quantity'].sum().sort_values(ascending=False)\n",
    "print(total_items_sold)"
   ],
   "id": "d7cc1e12a7ecda64",
   "outputs": [
    {
     "name": "stdout",
     "output_type": "stream",
     "text": [
      "Product Category\n",
      "Clothing       894\n",
      "Electronics    849\n",
      "Beauty         771\n",
      "Name: Quantity, dtype: int64\n"
     ]
    }
   ],
   "execution_count": 42
  },
  {
   "metadata": {},
   "cell_type": "markdown",
   "source": "a#Total Items Sold (Quantity) per Product",
   "id": "729bf9bee3059183"
  }
 ],
 "metadata": {
  "kernelspec": {
   "display_name": "Python 3",
   "language": "python",
   "name": "python3"
  },
  "language_info": {
   "codemirror_mode": {
    "name": "ipython",
    "version": 2
   },
   "file_extension": ".py",
   "mimetype": "text/x-python",
   "name": "python",
   "nbconvert_exporter": "python",
   "pygments_lexer": "ipython2",
   "version": "2.7.6"
  }
 },
 "nbformat": 4,
 "nbformat_minor": 5
}
